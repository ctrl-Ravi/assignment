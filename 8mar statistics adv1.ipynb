{
 "cells": [
  {
   "cell_type": "markdown",
   "id": "a05c848b-143e-4a6a-848f-d487222f1804",
   "metadata": {},
   "source": [
    "# Q1. What is the Probability density function?"
   ]
  },
  {
   "cell_type": "code",
   "execution_count": null,
   "id": "c7c27a1e-9b66-4f2b-b94a-cd6d252d25af",
   "metadata": {},
   "outputs": [],
   "source": [
    "Ans👉the function which is describe the probability of continuos random variable."
   ]
  },
  {
   "cell_type": "markdown",
   "id": "ba7bb872-2e87-4a1d-b876-69f419e8b939",
   "metadata": {},
   "source": [
    "# Q2. What are the types of Probability distribution?"
   ]
  },
  {
   "cell_type": "markdown",
   "id": "13ad16a7-47e7-4664-9d9a-5b37e37b64c5",
   "metadata": {},
   "source": [
    "Ans👉The types of Probabiltiy distribution are following:\n",
    "    1.Barnauli distribution\n",
    "    2.Binomial distribution\n",
    "    3.Possion distribution\n",
    "    4.Normal/Gaussion distribution\n",
    "    5.Uniform distribution\n",
    "    6.Log normal distribution"
   ]
  },
  {
   "cell_type": "markdown",
   "id": "40a37b19-a1b4-4b21-ac5b-a9fbff1862d5",
   "metadata": {},
   "source": [
    "# Q3. Write a Python function to calculate the probability density function of a normal distribution with given mean and standard deviation at a given point."
   ]
  },
  {
   "cell_type": "code",
   "execution_count": 3,
   "id": "243acb6b-e7fc-4bcf-81a8-16109857433b",
   "metadata": {},
   "outputs": [
    {
     "data": {
      "text/plain": [
       "0.011413245424254847"
      ]
     },
     "execution_count": 3,
     "metadata": {},
     "output_type": "execute_result"
    }
   ],
   "source": [
    "import numpy as np\n",
    "import scipy.stats as stat\n",
    "def pdf(x,mean,median):\n",
    "    data = stat.norm(mean,median)\n",
    "    pdf = data.pdf(x)\n",
    "    \n",
    "    return pdf\n",
    "pdf(4,12,34)"
   ]
  },
  {
   "cell_type": "markdown",
   "id": "e65ea280-c381-45d0-ba88-df8993bbb03d",
   "metadata": {},
   "source": [
    "# Q4. What are the properties of Binomial distribution? Give two examples of events where binomial distribution can be applied."
   ]
  },
  {
   "cell_type": "markdown",
   "id": "88e31c79-530a-4f76-8619-b93af33fedfa",
   "metadata": {},
   "source": [
    "Ans👉  BInomial distribution is the distribution which outcome is two success or failure.\n",
    "its trial is independent mean the probability of the current trial doesn't effect on next trial.\n",
    "its success and failure probability is equal\n",
    "in this is trial can be 'n' times"
    "example 1:- Toss a coin\n",
    "example 2:- student academic perfomance"
   ]
  },
  {
   "cell_type": "markdown",
   "id": "f1bd2b23-57d0-4006-9f46-68042fc7a15d",
   "metadata": {},
   "source": [
    "# Q5. Generate a random sample of size 1000 from a binomial distribution with probability of success 0.4 and plot a histogram of the results using matplotlib."
   ]
  },
  {
   "cell_type": "code",
   "execution_count": 10,
   "id": "b23f9673-d4d2-4cba-991e-803375c6796a",
   "metadata": {},
   "outputs": [
    {
     "data": {
      "image/png": "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\n",
      "text/plain": [
       "<Figure size 640x480 with 1 Axes>"
      ]
     },
     "metadata": {},
     "output_type": "display_data"
    }
   ],
   "source": [
    "from numpy.random import binomial\n",
    "import matplotlib.pyplot as plt\n",
    "ran_data = binomial(n=1000,p=0.4,size=1000)\n",
    "plt.hist(ran_data,bins=20)\n",
    "plt.show()"
   ]
  },
  {
   "cell_type": "markdown",
   "id": "ef9b544a-eb4d-43fb-8e4f-205cd3e83719",
   "metadata": {},
   "source": [
    "# Q6. Write a Python function to calculate the cumulative distribution function of a Poisson distribution with given mean at a given point."
   ]
  },
  {
   "cell_type": "code",
   "execution_count": 25,
   "id": "f37d830c-0daa-46b2-ac84-167744a451db",
   "metadata": {},
   "outputs": [
    {
     "data": {
      "text/plain": [
       "('cdf=', 0.029636163880521763)"
      ]
     },
     "execution_count": 25,
     "metadata": {},
     "output_type": "execute_result"
    }
   ],
   "source": [
    "from numpy.random import poisson\n",
    "import scipy.stats as stat\n",
    "def cdf(x,mean):\n",
    "    data= stat.poisson(mean)\n",
    "    cdf = data.cdf(x)\n",
    "    return \"cdf=\",cdf\n",
    "cdf(2,7)"
   ]
  },
  {
   "cell_type": "markdown",
   "id": "858ccc7c-f783-44cb-b9c9-97935fc8b1a1",
   "metadata": {},
   "source": [
    "# Q7. How Binomial distribution different from Poisson distribution?"
   ]
  },
  {
   "cell_type": "markdown",
   "id": "5d0ce892-4654-497c-a473-28f00628c3b9",
   "metadata": {},
   "source": [
    "Ans👉Poisson distribution describe their expirment occurance on a fixed interval of  time but in binomial distribution experiment is with the\n",
    "independent trial with two possible outcome is success or failure.\n",
    "in the binomial distribution two parameters n and p where n is the nomber of trial and p is the probability of success and in the Poisson.\n",
    "distribution two parameters lambda where lambda is the no.. of mean of the events of fixed interval ."
   ]
  },
  {
   "cell_type": "markdown",
   "id": "d24a07ff-cc71-4ff4-84e1-0d32ad3deabe",
   "metadata": {},
   "source": [
    "# Q8. Generate a random sample of size 1000 from a Poisson distribution with mean 5 and calculate the sample mean and variance."
   ]
  },
  {
   "cell_type": "code",
   "execution_count": 18,
   "id": "96c0f130-9563-4919-94e3-8027a443eb1b",
   "metadata": {},
   "outputs": [
    {
     "name": "stdout",
     "output_type": "stream",
     "text": [
      "mean= 4.96 variance= 5.958399999999999\n"
     ]
    }
   ],
   "source": [
    "import numpy as np\n",
    "from numpy.random import poisson\n",
    "rand_poss= poisson(lam=5,size=100)\n",
    "mean = np.mean(rand_poss)\n",
    "var = np.var(rand_poss)\n",
    "print(\"mean=\",mean, \"variance=\",var)"
   ]
  },
  {
   "cell_type": "markdown",
   "id": "80392a46-1f49-45b2-939e-d5756d4a2249",
   "metadata": {},
   "source": [
    "# Q9. How mean and variance are related in Binomial distribution and Poisson distribution?"
   ]
  },
  {
   "cell_type": "markdown",
   "id": "16ac6943-59c6-4ca3-9e4c-b4c4c753ef48",
   "metadata": {},
   "source": [
    "Ans👉\n",
    "IN Binomial distrubution \n",
    "mean = np\n",
    "variance = underroot(npq)\n",
    "in Poisson distribution \n",
    "mean = lambda\n",
    "vairance = lambda\n",
    "in both of the distribution mean is preseanting expected no.. of success\n",
    "and in the both of the distribution variance is depends on the no.. of trials and the probobility of the success"
   ]
  },
  {
   "cell_type": "markdown",
   "id": "f2e3a488-ea3c-43b6-95a3-065bd838ab96",
   "metadata": {},
   "source": [
    "# Q10. In normal distribution with respect to mean position, where does the least frequent data appear?"
   ]
  },
  {
   "cell_type": "markdown",
   "id": "efd3d149-0afd-446d-b1a0-1be3ca366f4f",
   "metadata": {},
   "source": [
    "Ans👉leaset frequent data appear at the end of the distribution curve"
   ]
  }
 ],
 "metadata": {
  "kernelspec": {
   "display_name": "Python 3 (ipykernel)",
   "language": "python",
   "name": "python3"
  },
  "language_info": {
   "codemirror_mode": {
    "name": "ipython",
    "version": 3
   },
   "file_extension": ".py",
   "mimetype": "text/x-python",
   "name": "python",
   "nbconvert_exporter": "python",
   "pygments_lexer": "ipython3",
   "version": "3.10.8"
  }
 },
 "nbformat": 4,
 "nbformat_minor": 5
}
