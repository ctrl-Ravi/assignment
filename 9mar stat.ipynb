{
 "cells": [
  {
   "cell_type": "markdown",
   "id": "8fd3cdcd-2d62-4e0c-90ce-3bf53895990a",
   "metadata": {},
   "source": [
    "# Q1: What are the Probability Mass Function (PMF) and Probability Density Function (PDF)? Explain with an example."
   ]
  },
  {
   "cell_type": "markdown",
   "id": "95aa901c-91a4-48c5-8044-c4a6aec17d21",
   "metadata": {},
   "source": [
    "Ans👉Prabability Mass Function is a mathemetical funtion in the statistics which is show the distribution of decreate random variable. Example when we roll a dic  and Probability Density Function is a mathematical function in the statistics,\n",
    "which is show the distribution of the continuous random variable. example pdf of the the height."
   ]
  },
  {
   "cell_type": "markdown",
   "id": "89e6f9bf-0cd6-45c0-a177-f930fa0b953c",
   "metadata": {},
   "source": [
    "# Q2: What is Cumulative Density Function (CDF)? Explain with an example. Why CDF is used?"
   ]
  },
  {
   "cell_type": "markdown",
   "id": "73f03d9e-012a-45a7-b5c5-e4b054b4571a",
   "metadata": {},
   "source": [
    "Ans👉Cumulative Density Function is a mathematical funtion which is show the the Probability distribution of all type of random variable thats \n",
    "why we use CDF . lets take example x is random variable which prabability is less than and equal to 1 its show all the probability ."
   ]
  },
  {
   "cell_type": "markdown",
   "id": "21a4499c-56da-492b-8639-0a3724d88754",
   "metadata": {},
   "source": [
    "# Q3: What are some examples of situations where the normal distribution might be used as a model? Explain how the parameters of the normal distribution relate to the shape of the distribution."
   ]
  },
  {
   "cell_type": "markdown",
   "id": "46421587-2550-4efb-bc96-9087f3578888",
   "metadata": {},
   "source": [
    "Ans👉Exam score , Height of the people there distribution is normal distribution . parameters of the normal distribuiton \n",
    "is mean and standard deviation,where mean is \n",
    "When the mean is smaller distribution shifted to the left and mean is larger distribuiton shifted to the right.\n",
    "and sta"
   ]
  },
  {
   "cell_type": "markdown",
   "id": "a32e3cfb-3c79-40c2-a701-6e11883a4174",
   "metadata": {},
   "source": [
    "# Q4: Explain the importance of Normal Distribution. Give a few real-life examples of Normal Distribution."
   ]
  },
  {
   "cell_type": "markdown",
   "id": "930b4b4e-0f70-471b-b332-de39d4ec1c3e",
   "metadata": {},
   "source": [
    "Ans👉according to CLT(Centeral Limit Theoram) all the sapling mean of population is always distributed in Normal Distribution Thats make the importance\n",
    "of Normal Distribution \n",
    "In Real Life , Exam score , Height, Weight,Human body temperature, Blood pressure"
   ]
  },
  {
   "cell_type": "markdown",
   "id": "c6ee7382-6f82-4919-84a0-f658865d6ddc",
   "metadata": {},
   "source": [
    "# Q5: What is Bernaulli Distribution? Give an Example. What is the difference between Bernoulli Distribution and Binomial Distribution?"
   ]
  },
  {
   "cell_type": "markdown",
   "id": "1d6a0ec8-8276-486c-9f69-9a6ba8e471f7",
   "metadata": {},
   "source": [
    "Ans👉Bernaulli Distribution and Binomial Distribution both are likely same but in Bernaulli Distribution the trial no.. is fix \n",
    "that is 1\n",
    "But in Binomial Distribution Number of trial is not limitd it can be \"n\" times\n",
    "# Example\n",
    "when we toss a coin it is in Bernaulli distribution\n",
    "but when we toss a coin 10 times it is in Binomial distribuion"
   ]
  },
  {
   "cell_type": "markdown",
   "id": "3a919951-fcaa-479a-8ba0-dd4ee429c2d9",
   "metadata": {},
   "source": [
    "# Q6. Consider a dataset with a mean of 50 and a standard deviation of 10. If we assume that the dataset is normally distributed, what is the probability that a randomly selected observation will be greater than 60? Use the appropriate formula and show your calculations."
   ]
  },
  {
   "cell_type": "markdown",
   "id": "f3c9949a-7728-476d-a5a6-94a127ebad80",
   "metadata": {},
   "source": [
    "#Given \n",
    "    mean = 50\n",
    "    std= 10\n",
    "    x=60\n",
    "we use Z-score=x-mean/std\n",
    "z-score = 60-50/10\n",
    "z-score=1\n",
    "according to z table, area of the z-score =0.84134 \n",
    "now i calculate the area under the currve of greater than 60 = 1-0.84134\n",
    "\n",
    "#then probability is 0.15866"
   ]
  },
  {
   "cell_type": "markdown",
   "id": "72eb00f0-9797-472b-ad87-96719ab33f54",
   "metadata": {},
   "source": [
    "# Q7: Explain uniform Distribution with an example."
   ]
  },
  {
   "cell_type": "markdown",
   "id": "c4d20b7c-496e-49c1-ac82-4d26c9ae835f",
   "metadata": {},
   "source": [
    "Ans👉Uniform Distribution is a probability distribution in which the probability of the Continuous Random Variable is in the certain \n",
    "bounds which in the minimum and maximum and the probability of the Decreate Random Variables is which is finite and equaly likely \n",
    "to observe which is 1/n."
   ]
  },
  {
   "cell_type": "markdown",
   "id": "4b0c7d99-ce20-4e6d-8ba6-f4c29d631186",
   "metadata": {},
   "source": [
    "# Q8: What is the z score? State the importance of the z score."
   ]
  },
  {
   "cell_type": "markdown",
   "id": "5625ffb8-35cc-4f0f-aaca-d0ed31ccb63f",
   "metadata": {},
   "source": [
    "Ans👉Z-score measure the standard deviation which how many from the data point of the mean of a distribution.\n",
    "The importance of the Z-Score is it is use for the compare the data which is measure in different scale but Standarizing the Z-score we can compare it \n",
    "and we also use this for Hypothesis testing and also in the confidence intervals to determine the range .   "
   ]
  },
  {
   "cell_type": "markdown",
   "id": "dfadabcc-1f13-40a8-9115-441247a7e26d",
   "metadata": {},
   "source": [
    "# Q9: What is Central Limit Theorem? State the significance of the Central Limit Theorem."
   ]
  },
  {
   "cell_type": "markdown",
   "id": "b1a3fc9b-5009-4413-9d2f-aeffadbc9f96",
   "metadata": {},
   "source": [
    "Ans👉Centeral Limit Theorem says that the sampling distribution of the mean is always Normally distributed and sample size should be large enough if the population is possion , binomial\n",
    "barnauli or any other distribution even then sampling distributin of the mean is Normally distributed."
   ]
  },
  {
   "cell_type": "markdown",
   "id": "82aefe53-f537-41ef-baa9-2f27b37534f9",
   "metadata": {},
   "source": [
    "# Q10: State the assumptions of the Central Limit Theorem."
   ]
  },
  {
   "cell_type": "markdown",
   "id": "6b4d54d1-5a6d-4a29-b8a3-4a902ca1af60",
   "metadata": {},
   "source": [
    "Ans👉THe observation choosen in  the sample is randomly and independently \n",
    "sample size is as long as enough its greater the 30\n",
    "the mean of the sampling distribution is equal to the mean of the population."
   ]
  }
 ],
 "metadata": {
  "kernelspec": {
   "display_name": "Python 3 (ipykernel)",
   "language": "python",
   "name": "python3"
  },
  "language_info": {
   "codemirror_mode": {
    "name": "ipython",
    "version": 3
   },
   "file_extension": ".py",
   "mimetype": "text/x-python",
   "name": "python",
   "nbconvert_exporter": "python",
   "pygments_lexer": "ipython3",
   "version": "3.10.8"
  }
 },
 "nbformat": 4,
 "nbformat_minor": 5
}
