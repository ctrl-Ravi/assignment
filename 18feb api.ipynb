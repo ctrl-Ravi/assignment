{
 "cells": [
  {
   "cell_type": "markdown",
   "id": "214521cb-d2ae-46b7-b240-ce2e0c71bb6b",
   "metadata": {},
   "source": [
    "# Q1. What is an API? Give an example, where an API is used in real life."
   ]
  },
  {
   "cell_type": "markdown",
   "id": "2e66ab8e-ea59-466a-a928-b82c5ef5f174",
   "metadata": {},
   "source": [
    "Ans👉API(Application Programming Interface) is a tool,a set of protocols which is help to connect two different software\n",
    "to communicate eache other through API, and they can use their feature and expand.\n",
    "API is used in Gmail, in ola,uber, Banking App etc....."
   ]
  },
  {
   "cell_type": "markdown",
   "id": "38ef916b-3727-4b0d-9ba9-b4576f59ea84",
   "metadata": {},
   "source": [
    "# Q2. Give advantages and disadvantages of using API."
   ]
  },
  {
   "cell_type": "markdown",
   "id": "1d515afc-edff-4e49-9b8e-f98cc8e1ecd9",
   "metadata": {},
   "source": [
    "Ans👉\n",
    "#Advantages:\n",
    "    1.With the help of Api we can use another software feature without build from scratch mean it save lot of time.\n",
    "    2.API provide many Automation facility for sharing data that can increase effiency.\n",
    "    3.it can improve user experience because its provide to developer to make less lag and smoother.\n",
    "#Disadvantages:\n",
    "    1.Dependent on Third party software that can be a Risky.\n",
    "    2.Security Problem Through API its easy to attack .\n",
    "    3.When we use API it can increase cost because it requires large amount of data to processing."
   ]
  },
  {
   "cell_type": "markdown",
   "id": "344de2fe-525b-421f-86dc-92850780783f",
   "metadata": {
    "tags": []
   },
   "source": [
    "# Q3. What is a Web API? Differentiate between API and Web API."
   ]
  },
  {
   "cell_type": "markdown",
   "id": "268e4fae-f8cd-418c-8ae5-3e1378443085",
   "metadata": {},
   "source": [
    "Ans👉Web API is a type of API Which is specially designed for Web app to communicate each other, share data and functionality over the internet.\n",
    "#D\n",
    "1.Api is intrecate with the any type of app or software but Web Api is only for Web app\n",
    "2.Api deliverd in multiple mechanism but web app is only deliverd over the internet using HTTP.\n",
    "3.Api can use many types of data format but web Api only use xml and JSON data format \n",
    "3.Api require Authentication for access but Web Api is use standard format of Authentication OAuth\n",
    "4.Api use different types of endpoint but Web Api use single Url endpoint for many operation."
   ]
  },
  {
   "cell_type": "markdown",
   "id": "7bfdf4b4-c6cb-4c06-b410-af7a30734b8f",
   "metadata": {},
   "source": [
    "# Q4. Explain REST and SOAP Architecture. Mention shortcomings of SOAP."
   ]
  },
  {
   "cell_type": "markdown",
   "id": "adbf6787-ff5a-42c5-9346-cdcd8e99db9e",
   "metadata": {},
   "source": [
    "Ans👉EST and SOAP Architecture is Popular style architectural which is used for building Web Services.\n",
    "REST Architecture:- REST Architecture used HTTP request to get or post and resorces URL is used for indentify \n",
    "the access. This is easy to use ,deploy and maintain. also its fast and scalable. its used by variety of client\n",
    "in web application, mobile application etc..\n",
    "SOAP Architecture:- SOAP is XML based messaging portal and this is used for structured information between the \n",
    "network application,its complex and usally used by eterprises which need more security and more reliable.\n",
    "\n",
    "Main Shortcomings of SOAP is complexity which is make more difficult to maintain.\n"
   ]
  },
  {
   "cell_type": "markdown",
   "id": "d90ba1c3-d2c1-4c33-9dd4-b80df451e6a8",
   "metadata": {},
   "source": [
    "# Q5. Differentiate between REST and SOAP."
   ]
  },
  {
   "cell_type": "markdown",
   "id": "73623f9e-de85-4c04-9000-37cccfbd243c",
   "metadata": {},
   "source": [
    "Ans👉\n",
    "1.REST is lightweight and easy to use but SOAP is highweight and comlex to build and deploy\n",
    "2.IN REST security is less but in SOAP security is high\n",
    "3.REST is used for many proggramming language and system which make verstile option for building web services but \n",
    "    SOAP is not support all system some system doesn't communicate due to complexity issue\n",
    "4.REST is use less bandwith because of simplcity but SOAP is use more bandwith to processing there messages"
   ]
  }
 ],
 "metadata": {
  "kernelspec": {
   "display_name": "Python 3 (ipykernel)",
   "language": "python",
   "name": "python3"
  },
  "language_info": {
   "codemirror_mode": {
    "name": "ipython",
    "version": 3
   },
   "file_extension": ".py",
   "mimetype": "text/x-python",
   "name": "python",
   "nbconvert_exporter": "python",
   "pygments_lexer": "ipython3",
   "version": "3.10.8"
  }
 },
 "nbformat": 4,
 "nbformat_minor": 5
}
