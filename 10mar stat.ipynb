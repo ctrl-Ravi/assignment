{
 "cells": [
  {
   "cell_type": "markdown",
   "id": "48177386-58fc-4b34-aedb-7c7a9410e7ae",
   "metadata": {},
   "source": [
    "# Q1: What is Estimation Statistics? Explain point estimate and interval estimate."
   ]
  },
  {
   "cell_type": "markdown",
   "id": "331ab819-573c-40d1-b4dd-e43f81e94ae6",
   "metadata": {},
   "source": [
    "Ans👉The observed numerical value is estimated from a unknown population parmeter.\n",
    "point estimate is estimation of a single numerical value from a unknown population parameter .\n",
    "Interval estimate is estimation of a range of value from a unknown population parameter."
   ]
  },
  {
   "cell_type": "markdown",
   "id": "6d0479df-8a9b-4056-a932-c3f8172fa4ea",
   "metadata": {},
   "source": [
    "# Q2. Write a Python function to estimate the population mean using a sample mean and standard deviation."
   ]
  },
  {
   "cell_type": "code",
   "execution_count": 10,
   "id": "8456cffc-4954-4f79-afd6-e016eb85f817",
   "metadata": {},
   "outputs": [
    {
     "data": {
      "text/plain": [
       "7.88"
      ]
     },
     "execution_count": 10,
     "metadata": {},
     "output_type": "execute_result"
    }
   ],
   "source": [
    "# Population Mean = Sample Mean + (Z-Score * (Standard Deviation / Square Root of Sample Size))\n",
    "def population_mean(sample_mean,standard_deviation):\n",
    "    z_score = 1.96\n",
    "    population_mean = sample_mean+(z_score*standard_deviation)\n",
    "    return population_mean\n",
    "\n",
    "population_mean(2,3)"
   ]
  },
  {
   "cell_type": "markdown",
   "id": "a2e6baa1-b924-4ec7-9065-16ca2b0949d7",
   "metadata": {},
   "source": [
    "# Q3: What is Hypothesis testing? Why is it used? State the importance of Hypothesis testing."
   ]
  },
  {
   "cell_type": "code",
   "execution_count": null,
   "id": "6386fbca-77cd-4bbd-b1db-062b8027a35a",
   "metadata": {},
   "outputs": [],
   "source": [
    "Hypothesis testing means we make decisions about unknown population data based on sample data.\n",
    "it is used to test the data which is provides , make colclusion that statement is right or wrong.\n",
    "is is clear the uncertenity of our conclusions."
   ]
  },
  {
   "cell_type": "markdown",
   "id": "4efceb72-9a5d-4f1f-aa67-efb89bf20deb",
   "metadata": {},
   "source": [
    "# Q4. Create a hypothesis that states whether the average weight of male college students is greater than the average weight of female college students."
   ]
  },
  {
   "cell_type": "markdown",
   "id": "f40f433f-4025-4478-8bd7-eba0b5ff4ced",
   "metadata": {},
   "source": [
    "null hypthesis =mean of weight of the  male college students <= mean of weight of the female college students\n",
    "alternat hypothesis =  mean of weight of the  male college students > mean of weight of the female college students"
   ]
  },
  {
   "cell_type": "markdown",
   "id": "b019c9ef-cd23-4be1-9b76-8dc5c6af372a",
   "metadata": {},
   "source": [
    "# Q5. Write a Python script to conduct a hypothesis test on the difference between two population means, given a sample from each population."
   ]
  },
  {
   "cell_type": "code",
   "execution_count": 9,
   "id": "9539052a-72ae-4d52-9d71-d75b77b2cd38",
   "metadata": {},
   "outputs": [
    {
     "name": "stdout",
     "output_type": "stream",
     "text": [
      "We fail to reject the null hypothesis\n"
     ]
    }
   ],
   "source": [
    "import numpy as np\n",
    "import scipy.stats as stat\n",
    "data1=[2,34,5,6,56]\n",
    "data2=[24,34,45,45]\n",
    "# assume significanc level\n",
    "signi_level=0.05\n",
    "t_stats, p_value= stat.ttest_ind(data1,data2,equal_var=False)\n",
    "# final decisions\n",
    "if p_value<signi_level:\n",
    "    print(\"we reject the null hypothesis\")\n",
    "else:\n",
    "    print(\"We fail to reject the null hypothesis\")"
   ]
  },
  {
   "cell_type": "markdown",
   "id": "c69cb3fd-a5ff-47c9-b38e-a7ef51f37cdc",
   "metadata": {},
   "source": [
    "# Q6: What is a null and alternative hypothesis? Give some examples."
   ]
  },
  {
   "cell_type": "markdown",
   "id": "9b94cc34-e637-429b-af33-1f92db655ebf",
   "metadata": {},
   "source": [
    "Null hypothesis is the part of hypothesis testing which is take first statement which is not a siginificant diference\n",
    "of two group effect between two group and the alternative hypothesis is just opposite of null hypothesis.\n",
    "\n",
    "for example :\n",
    "    a person commited crime in court.\n",
    "    null hypothesis is person is  inocent or not guilty because first statement should be not significant effect on two group\n",
    "    \n",
    "    and alternative hypothesis is person is guilty"
   ]
  },
  {
   "cell_type": "markdown",
   "id": "87c25d21-de68-4ab9-aece-ffc81d9bc09e",
   "metadata": {},
   "source": [
    "# Q7: Write down the steps involved in hypothesis testing."
   ]
  },
  {
   "cell_type": "markdown",
   "id": "59dd6c85-0126-44b7-8795-68aa53fabf4c",
   "metadata": {},
   "source": [
    "Step1: First we write the null hypothesis and alternate hypothesis according to the problem.\n",
    "Step2: we make a decision rule  \n",
    "Step3: We do Statistical Analysis\n",
    "step4: last conculision we reject the null hypothesis or fail to reject the null hypothesis"
   ]
  },
  {
   "cell_type": "markdown",
   "id": "093e2380-baf6-4a38-ab63-2fce33f969dc",
   "metadata": {},
   "source": [
    "# Q8. Define p-value and explain its significance in hypothesis testing."
   ]
  },
  {
   "cell_type": "markdown",
   "id": "bb73f784-cb3f-4c60-8e0d-7320c4e64a7d",
   "metadata": {},
   "source": [
    "Ans👉p-value is the number which is caluclated in statisticals analysis and this is describe that where to null hypothesis\n",
    "reject and its decide with the help of significance value."
   ]
  },
  {
   "cell_type": "markdown",
   "id": "84d77bcf-6f05-4697-b6d3-7b71aefc96f3",
   "metadata": {},
   "source": [
    "# Q9. Generate a Student's t-distribution plot using Python's matplotlib library, with the degrees of freedom parameter set to 10."
   ]
  },
  {
   "cell_type": "code",
   "execution_count": 49,
   "id": "26b62ec2-4279-4817-bea7-2d1caa81ddfd",
   "metadata": {},
   "outputs": [
    {
     "data": {
      "image/png": "[encoded data removed]",
      "text/plain": [
       "<Figure size 640x480 with 1 Axes>"
      ]
     },
     "metadata": {},
     "output_type": "display_data"
    }
   ],
   "source": [
    "import matplotlib.pyplot as plt\n",
    "import numpy as np\n",
    "import scipy.stats as stat\n",
    "data= np.linspace(-8,20,num=1556)\n",
    "dof=10\n",
    "t_dist=stat.t.pdf(data,dof)\n",
    "plt.plot(data,t_dist)\n",
    "plt.title(\"Student's t-distribution\")\n",
    "plt.xlabel('data')\n",
    "plt.ylabel('t_dist')\n",
    "plt.show()"
   ]
  },
  {
   "cell_type": "markdown",
   "id": "1acbc506-e518-4d29-af60-827dbb862ffb",
   "metadata": {},
   "source": [
    "# Q10. Write a Python program to calculate the two-sample t-test for independent samples, given two random samples of equal size and a null hypothesis that the population means are equal."
   ]
  },
  {
   "cell_type": "code",
   "execution_count": 48,
   "id": "fedd91cd-92ed-4843-930e-812f183d2408",
   "metadata": {},
   "outputs": [
    {
     "data": {
      "text/plain": [
       "(0.15509003234172686, 0.8798360737250787)"
      ]
     },
     "execution_count": 48,
     "metadata": {},
     "output_type": "execute_result"
    }
   ],
   "source": [
    "from numpy.random import normal\n",
    "import numpy as np\n",
    "import scipy.stats as stat\n",
    "sample1= normal(9,7 ,size=6)\n",
    "sample2= normal(9,7 ,size=6)\n",
    "t_stat,p_value = stat.ttest_ind(sample1,sample2)\n",
    "t_stat,p_value"
   ]
  },
  {
   "cell_type": "markdown",
   "id": "da7172e6-3404-4fb4-bed5-ff28dfe52ed8",
   "metadata": {},
   "source": [
    "# Q11: What is Student’s t distribution? When to use the t-Distribution."
   ]
  },
  {
   "cell_type": "markdown",
   "id": "db63bde6-7398-4594-abc3-480ece7eee0d",
   "metadata": {},
   "source": [
    "Ans👉Student's t distribution is used in statisical hypothesis testing an estimate the mean of normally distributed population.\n",
    "its used when population standard deviation is unknown and the sample size is small"
   ]
  },
  {
   "cell_type": "markdown",
   "id": "a4d5c83b-434d-48f6-a49b-b358ae8280cb",
   "metadata": {},
   "source": [
    "# Q12: What is t-statistic? State the formula for t-statistic."
   ]
  },
  {
   "cell_type": "markdown",
   "id": "1ca1d7e9-aceb-4961-ac91-0c00a8064d72",
   "metadata": {},
   "source": [
    "Ans👉t-statistic is a statical analyisis which used two measure the difference of mean of the two groups and its\n",
    "formula is = (sample mean - population mean)/(sample standard deviation/sqrt(sample size)"
   ]
  },
  {
   "cell_type": "markdown",
   "id": "642e75a2-bbec-4325-bb0a-ad79cf524ac0",
   "metadata": {},
   "source": [
    "# Q13. A coffee shop owner wants to estimate the average daily revenue for their shop. They take a random sample of 50 days and find the sample mean revenue to be $500 with a standard deviation of $50. Estimate the population mean revenue with a 95% confidence interval."
   ]
  },
  {
   "cell_type": "code",
   "execution_count": 17,
   "id": "dd95f1a6-3297-42e7-982b-753b08ff0cce",
   "metadata": {},
   "outputs": [
    {
     "name": "stdout",
     "output_type": "stream",
     "text": [
      "Estimated populaion mean revenue is $513.8592929112564\n"
     ]
    }
   ],
   "source": [
    "import math\n",
    "import scipy.stats as stat\n",
    "## Given\n",
    "sample_size= 50\n",
    "sample_mean=500\n",
    "std=50\n",
    "confidence_interval=0.95\n",
    "significanc_level=(1-0.95)/2\n",
    "dof=sample_size-1\n",
    "critical_point=-stat.t.ppf(significanc_level,dof)\n",
    "critical_point1,critical_point2=critical_point,-critical_point\n",
    "population_mean1,population_mean2=sample_mean-(std/math.sqrt(sample_size))*critical_point1,sample_mean-(std/math.sqrt(sample_size))*critical_point2\n",
    "print(\"Estimated populaion mean revenue is $\"+str(population_mean))"
   ]
  },
  {
   "cell_type": "markdown",
   "id": "e90760e7-2f12-4258-adec-3e273725fba4",
   "metadata": {},
   "source": [
    "# Q14. A researcher hypothesizes that a new drug will decrease blood pressure by 10 mmHg. They conduct a clinical trial with 100 patients and find that the sample mean decrease in blood pressure is 8 mmHg with a standard deviation of 3 mmHg. Test the hypothesis with a significance level of 0.05."
   ]
  },
  {
   "cell_type": "code",
   "execution_count": 6,
   "id": "91fec60f-a812-4860-9ad4-f4f8d478aae0",
   "metadata": {},
   "outputs": [
    {
     "name": "stdout",
     "output_type": "stream",
     "text": [
      "we reject the null hypothis means *New drug will decrease blood pressure*\n"
     ]
    }
   ],
   "source": [
    "import math\n",
    "# Hypothesis testing \n",
    "null_hypothesis = \"New drug will not decrease blood pressure\"\n",
    "alternate_hypothesis = \"New drug will decrease blood pressure\"\n",
    "## Given\n",
    "population_mean = 10\n",
    "sample_mean = 8\n",
    "sample_size= 100\n",
    "standard_deviation=3\n",
    "significanc_level= 0.05\n",
    "# lets caluculate t-test\n",
    "t_test=(sample_mean-population_mean)/(standard_deviation/math.sqrt(sample_size))\n",
    "# finding critical point\n",
    "dof=sample_size-1\n",
    "import scipy.stats as stat\n",
    "critical_point= stat.t.ppf(significanc_level/2,dof) ## It is two tail test so crtical point is positve and negative\n",
    "# TEst the Hypothesis\n",
    "if t_test<critical_point or t_test>(-critical_point):\n",
    "    print(\"we reject the null hypothis means *New drug will decrease blood pressure*\")\n",
    "else:\n",
    "    print(\"we fail to reject the null hypothesis means *New drug will not decrease blood pressure*\")"
   ]
  },
  {
   "cell_type": "markdown",
   "id": "8bb49722-ed42-4265-989c-f9c1a20aa086",
   "metadata": {},
   "source": [
    "\n",
    "# Q15. An electronics company produces a certain type of product with a mean weight of 5 pounds and a standard deviation of 0.5 pounds. A random sample of 25 products is taken, and the sample mean weight is found to be 4.8 pounds. Test the hypothesis that the true mean weight of the products is less than 5 pounds with a significance level of 0.01."
   ]
  },
  {
   "cell_type": "code",
   "execution_count": 32,
   "id": "8beb1b0e-490f-4a70-9b16-5aac928c79d6",
   "metadata": {},
   "outputs": [
    {
     "name": "stdout",
     "output_type": "stream",
     "text": [
      "We fail to reject the null hypothesis\n",
      "*means true mean weight of the products is greater than 5 pounds or equal to 5 pounds. *\n"
     ]
    }
   ],
   "source": [
    "import math\n",
    "import scipy.stats as stat\n",
    "##Given\n",
    "population_mean=5\n",
    "standard_deviation=0.5\n",
    "sample_size=25\n",
    "sample_mean=4.8\n",
    "significance_level=0.01\n",
    "# Hypothesis testing condition\n",
    "null_hypothesi= \"true mean weight of the products is greater than 5 pounds or equal to 5 pounds.\"\n",
    "Alternate_hypothesis= \"true mean weight of the products is less than 5 pounds.\"\n",
    "# calulating t test \n",
    "t_test=(sample_mean-population_mean)/(standard_deviation/math.sqrt(sample_size))\n",
    "## calculating p-value\n",
    "p_value = stat.t.cdf(t_test, sample_size-1)\n",
    "# Conculison Testing hypothesis\n",
    "if p_value<significance_level:\n",
    "    print('We reject the null hypothesis\\n*means true mean weight of the products is less than 5 pounds.*')\n",
    "else:\n",
    "    print(\"We fail to reject the null hypothesis\\n*means true mean weight of the products is greater than 5 pounds or equal to 5 pounds. *\")"
   ]
  },
  {
   "cell_type": "markdown",
   "id": "45b35047-d49e-4bb6-9e09-d6b15fba18c4",
   "metadata": {},
   "source": [
    "# Q16. Two groups of students are given different study materials to prepare for a test. The first group (n1 = 30) has a mean score of 80 with a standard deviation of 10, and the second group (n2 = 40) has a mean score of 75 with a standard deviation of 8. Test the hypothesis that the population means for the two groups are equal with a significance level of 0.01."
   ]
  },
  {
   "cell_type": "code",
   "execution_count": 49,
   "id": "408072a8-5961-4f82-8a25-d4fdfe259271",
   "metadata": {},
   "outputs": [
    {
     "name": "stdout",
     "output_type": "stream",
     "text": [
      "we fail to reject the null hypthesis \n",
      "Means:the population means for the two groups are equal\n"
     ]
    }
   ],
   "source": [
    "import math\n",
    "import scipy.stats as stat\n",
    "n1=30\n",
    "mean1=80\n",
    "std1=10\n",
    "n2=40\n",
    "mean2=75\n",
    "std2=8\n",
    "significance_level=0.01\n",
    "## hypothesis testing condition\n",
    "null_hpothesis='the population means for the two groups are equal'\n",
    "aleternate_hypothesis=\"the population means for the two groups are not equal\"\n",
    "# calculating t_test\n",
    "t_test=(mean1-mean2)/math.sqrt((std1**2/n1)+(std2**2/n2))\n",
    "# caluculating p_value\n",
    "dof = n1+n2-2\n",
    "p_value=stat.t.cdf(t_test, dof)\n",
    "# NOw Testing Hypothesis\n",
    "if p_value<significance_level:\n",
    "    print('we reject the null hypothesis \\n Means:the population means for the two groups are not equal')\n",
    "else:\n",
    "    print('we fail to reject the null hypthesis \\nMeans:the population means for the two groups are equal')"
   ]
  },
  {
   "cell_type": "markdown",
   "id": "81203142-8355-4415-b79c-a95644ce5964",
   "metadata": {},
   "source": [
    "# Q17. A marketing company wants to estimate the average number of ads watched by viewers during a TV program. They take a random sample of 50 viewers and find that the sample mean is 4 with a standard deviation of 1.5. Estimate the population mean with a 99% confidence interval."
   ]
  },
  {
   "cell_type": "code",
   "execution_count": 17,
   "id": "6cad3dbc-3493-4ba0-ae6c-6a7c3c2d5e6d",
   "metadata": {},
   "outputs": [
    {
     "name": "stdout",
     "output_type": "stream",
     "text": [
      "The average number of ads watched by viewers during a TV program between 3.4314963358572577 and 4.568503664142742\n"
     ]
    }
   ],
   "source": [
    "## Given\n",
    "import math\n",
    "sample_size= 50\n",
    "sample_mean = 4\n",
    "std= 1.5\n",
    "confidence_interval= 0.99\n",
    "significance_level= 0.01/2 # two tail test \n",
    "dof = sample_size-1\n",
    "import scipy.stats as stat\n",
    "critical_point = -stat.t.ppf(significance_level,dof)\n",
    "## two tail test means critical_point positve and negative\n",
    "critical_point1, critical_point2=critical_point,-critical_point\n",
    "population_mean1,population_mean2=sample_mean-(std/math.sqrt(sample_size))*critical_point1,sample_mean-(std/math.sqrt(sample_size))*critical_point2\n",
    "print(f'The average number of ads watched by viewers during a TV program between {population_mean1} and {population_mean2}',)"
   ]
  }
 ],
 "metadata": {
  "kernelspec": {
   "display_name": "Python 3 (ipykernel)",
   "language": "python",
   "name": "python3"
  },
  "language_info": {
   "codemirror_mode": {
    "name": "ipython",
    "version": 3
   },
   "file_extension": ".py",
   "mimetype": "text/x-python",
   "name": "python",
   "nbconvert_exporter": "python",
   "pygments_lexer": "ipython3",
   "version": "3.10.8"
  }
 },
 "nbformat": 4,
 "nbformat_minor": 5
}
