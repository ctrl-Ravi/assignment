{
 "cells": [
  {
   "cell_type": "markdown",
   "id": "c1b23ddf-3c0d-434a-b115-abd1202f8f31",
   "metadata": {},
   "source": [
    "# Q1. What is Statistics?"
   ]
  },
  {
   "cell_type": "markdown",
   "id": "9361fac3-7169-4c4e-bc72-d31869caca49",
   "metadata": {},
   "source": [
    "Ans👉 Statistics is basically the science of collecting data then organizing data and anlyzing of data."
   ]
  },
  {
   "cell_type": "markdown",
   "id": "785509a0-8bfe-4fa2-9178-74bf11485c3e",
   "metadata": {},
   "source": [
    "# Q2. Define the different types of statistics and give an example of when each type might be used."
   ]
  },
  {
   "cell_type": "markdown",
   "id": "1838506b-2d13-46a2-bf2a-1962ad40bfe7",
   "metadata": {},
   "source": [
    "Ans👉 Types of Statistics is :-\n",
    "        1. descriptive statistics\n",
    "        2. inferential statistics\n",
    "1. Descriptive Statistics:- this statistics means organizing and sumarizing data. We wiil use it when we need to\n",
    "                            Analeyze a data.\n",
    "2. Inferencial Statistics:- This statistics means make a conclusions . we will use for prediction thruoug population\n",
    "                            Data and sample data"
   ]
  },
  {
   "cell_type": "markdown",
   "id": "5078c0ec-0a11-4f32-b21f-c3a8e0ec3285",
   "metadata": {},
   "source": [
    "# Q3. What are the different types of data and how do they differ from each other? Provide an example of each type of data."
   ]
  },
  {
   "cell_type": "markdown",
   "id": "8397cd3e-d044-44a1-92a4-f1efa13f8362",
   "metadata": {},
   "source": [
    "Ans👉 Mainly there are two types of data \n",
    "        1. Quantitative data \n",
    "        2. Qualitative data\n",
    "1. Quantitative data : Quantitative data means basicaly numerical data.and its divided into two types of data:-\n",
    "                    (a). Discrete data: Only whole no. [Account no. , family member ]\n",
    "                    (b). Continuous data: Any value [Ex:- speed, temperature, height]\n",
    "2. Qualitative data : Qualitative data means catgorial data. its divided into two parts :-\n",
    "                    (a). Nominal data : Ranking not possible[Ex:- Gender, Blood Group, colours]\n",
    "                    (b). Ordinal data: Rank important [Ex:- customer Review, company salary , school grades]"
   ]
  },
  {
   "cell_type": "markdown",
   "id": "f180cc01-e1b1-4f48-abaf-4c48f1a142d1",
   "metadata": {},
   "source": [
    "# Q4. Categorise the following datasets with respect to quantitative and qualitative data types:"
   ]
  },
  {
   "cell_type": "markdown",
   "id": "e988b44f-45ac-4f48-8246-d9d08de69893",
   "metadata": {},
   "source": [
    "(i) Grading in exam: A+, A, B+, B, C+, C, D, E\n",
    "Ans👉Qualitative data(Ordinal data)"
   ]
  },
  {
   "cell_type": "markdown",
   "id": "9d2718a5-12f6-407f-8019-df40a3876b2b",
   "metadata": {},
   "source": [
    "(ii) Colour of mangoes: yellow, green, orange, red\n",
    "Ans👉 Qualitative data(Nominal data)"
   ]
  },
  {
   "cell_type": "markdown",
   "id": "d25d904f-8d58-48e9-86b3-d03369186965",
   "metadata": {},
   "source": [
    "(iii) Height data of a class: [178.9, 179, 179.5, 176, 177.2, 178.3, 175.8,...]\n",
    "Ans👉 Quantitative data(Continuas data)"
   ]
  },
  {
   "cell_type": "markdown",
   "id": "51b6264c-1d39-4fe3-8165-d8801ab40075",
   "metadata": {},
   "source": [
    "(iv) Number of mangoes exported by a farm: [500, 600, 478, 672, ...]\n",
    "Ans👉Quantitaive data(Discrete data)"
   ]
  },
  {
   "cell_type": "markdown",
   "id": "09539d95-fa7b-40ca-b4ab-255c2569bd23",
   "metadata": {},
   "source": [
    "# Q5. Explain the concept of levels of measurement and give an example of a variable for each level."
   ]
  },
  {
   "cell_type": "markdown",
   "id": "d3e25f3f-79cc-47d9-abca-5b2b10784162",
   "metadata": {},
   "source": [
    "Ans👉 levels of measurement concept means when i have a randam data and when i want to measure it we use this concept:\n",
    "    Four level:\n",
    "        1. Nominal scale data. Ex:-[Gender]\n",
    "        2. Ordinal scale data. Ex:-[customer review]\n",
    "        3. Interval scale data. Ex:-[Temperature]\n",
    "        4. Ratio scale data. Ex:[students school grade]"
   ]
  },
  {
   "cell_type": "markdown",
   "id": "aaff1d08-7a3c-4160-8ae9-a8767249bbd4",
   "metadata": {},
   "source": [
    "# Q6. Why is it important to understand the level of measurement when analyzing data? Provide an example to illustrate your answer."
   ]
  },
  {
   "cell_type": "markdown",
   "id": "92355a99-a117-43e7-b8c0-2d8c505cd34d",
   "metadata": {},
   "source": [
    "Ans👉 lets consider an example where is a data of a students marks[40,82,60,10,60] and we need to categraize the data into \n",
    "Grade but it not possible to grade it. but it can measure by level of measurment concept"
   ]
  },
  {
   "cell_type": "markdown",
   "id": "42c55c3f-5c81-4f13-83d3-479abbc0c7a4",
   "metadata": {},
   "source": [
    "# Q7. How nominal data type is different from ordinal data type."
   ]
  },
  {
   "cell_type": "markdown",
   "id": "fdcb13cd-5acf-43ce-b51b-0f69480ee9bc",
   "metadata": {},
   "source": [
    "Ans👉Nominal data type is different form ordinal data type because in ordinal data type order and rank is matter but in nominal data we can't decide their order rank"
   ]
  },
  {
   "cell_type": "markdown",
   "id": "8db84c4b-8cd2-4c16-aa75-4c86de9660d0",
   "metadata": {},
   "source": [
    "# Q8. Which type of plot can be used to display data in terms of range?"
   ]
  },
  {
   "cell_type": "markdown",
   "id": "c446108a-7fc4-4a0b-bc34-536b223e287c",
   "metadata": {},
   "source": [
    "Ans👉 Box Plot"
   ]
  },
  {
   "cell_type": "markdown",
   "id": "7a274a30-0d73-4e4c-8d67-afa3803d60d2",
   "metadata": {},
   "source": [
    "# Q9. Describe the difference between descriptive and inferential"
   ]
  },
  {
   "cell_type": "markdown",
   "id": "a2510383-b4e8-4a8f-a204-afc1a3fa818c",
   "metadata": {},
   "source": [
    "Ans:👉descriptive basically analyze the data summarize it and inferential make conclusions according to population data and sample data"
   ]
  },
  {
   "cell_type": "markdown",
   "id": "7b1f2f62-5ccc-4e2e-884b-ab20c07692f1",
   "metadata": {},
   "source": [
    "# Q10. What are some common measures of central tendency and variability used in statistics? Explain how each measure can be used to describe a dataset."
   ]
  },
  {
   "cell_type": "code",
   "execution_count": null,
   "id": "e003720f-f558-4472-aeeb-669610c432a3",
   "metadata": {},
   "outputs": [],
   "source": [
    "some common measures of central tendency is mean, median , mode and some common variability used is range , variance, stdandard Deviation.\n",
    "1. mean is used to find the Average value of dataset \n",
    "2. median is used to find middle value when outliars is present.\n",
    "3. mode is used to find the specific pattern of dataset.\n",
    "4. range is used to find the range smallest to largest.\n",
    "4. variance is used to find the spread of the dataset.\n",
    "5. standard deviiation is basically square root of variance "
   ]
  }
 ],
 "metadata": {
  "kernelspec": {
   "display_name": "Python 3 (ipykernel)",
   "language": "python",
   "name": "python3"
  },
  "language_info": {
   "codemirror_mode": {
    "name": "ipython",
    "version": 3
   },
   "file_extension": ".py",
   "mimetype": "text/x-python",
   "name": "python",
   "nbconvert_exporter": "python",
   "pygments_lexer": "ipython3",
   "version": "3.10.8"
  }
 },
 "nbformat": 4,
 "nbformat_minor": 5
}
