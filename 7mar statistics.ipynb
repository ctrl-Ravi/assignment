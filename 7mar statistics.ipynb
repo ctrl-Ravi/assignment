{
 "cells": [
  {
   "cell_type": "markdown",
   "id": "c2c2c929-b430-463b-bd14-4c4622c19dfa",
   "metadata": {},
   "source": [
    "# Q1. What are the three measures of central tendency?"
   ]
  },
  {
   "cell_type": "markdown",
   "id": "bb5eb184-1c64-4dda-b2ed-52d137821d87",
   "metadata": {},
   "source": [
    "Ans👉Three measures of central tendency are mean, median, mode"
   ]
  },
  {
   "cell_type": "markdown",
   "id": "cd8ee051-3fbe-4add-9b4f-240a5dfdbf94",
   "metadata": {},
   "source": [
    "# Q2. What is the difference between the mean, median, and mode? How are they used to measure the central tendency of a dataset?"
   ]
  },
  {
   "cell_type": "markdown",
   "id": "14932619-f436-4b4a-adfb-4b5b436baf32",
   "metadata": {},
   "source": [
    "Ans👉mean is used to find the average value of dataset but its sensetive in outliars case but median is used in this situation which is\n",
    "use to find midile value of dataset and mode is use to find the pattern of the dataset"
   ]
  },
  {
   "cell_type": "markdown",
   "id": "160cf145-5590-4892-9d2b-c0b1b2df0f44",
   "metadata": {},
   "source": [
    "# Q3. Measure the three measures of central tendency for the given height data:\n",
    "# [178,177,176,177,178.2,178,175,179,180,175,178.9,176.2,177,172.5,178,176.5]"
   ]
  },
  {
   "cell_type": "code",
   "execution_count": 15,
   "id": "5955902d-7422-4e82-acb8-314f6b54ed1a",
   "metadata": {},
   "outputs": [
    {
     "name": "stderr",
     "output_type": "stream",
     "text": [
      "/tmp/ipykernel_1006/2187961807.py:6: FutureWarning: Unlike other reduction functions (e.g. `skew`, `kurtosis`), the default behavior of `mode` typically preserves the axis it acts along. In SciPy 1.11.0, this behavior will change: the default value of `keepdims` will become False, the `axis` over which the statistic is taken will be eliminated, and the value None will no longer be accepted. Set `keepdims` to True or False to avoid this warning.\n",
      "  mode = stats.mode(data)\n"
     ]
    },
    {
     "data": {
      "text/plain": [
       "(177.01875, 177.0, ModeResult(mode=array([177.]), count=array([3])))"
      ]
     },
     "execution_count": 15,
     "metadata": {},
     "output_type": "execute_result"
    }
   ],
   "source": [
    "data = [178,177,176,177,178.2,178,175,179,180,175,178.9,176.2,177,172.5,178,176.5]\n",
    "import numpy as np\n",
    "from scipy import stats\n",
    "mean = np.mean(data)\n",
    "median = np.median(data)\n",
    "mode = stats.mode(data)\n",
    "mean, median, mode"
   ]
  },
  {
   "cell_type": "markdown",
   "id": "d036be64-1da0-4e32-84c5-ddcafaa80a64",
   "metadata": {},
   "source": [
    "# Q4. Find the standard deviation for the given data: [178,177,176,177,178.2,178,175,179,180,175,178.9,176.2,177,172.5,178,176.5]"
   ]
  },
  {
   "cell_type": "code",
   "execution_count": 2,
   "id": "8c6262a5-93ea-4f48-acd0-9e42480d8c69",
   "metadata": {},
   "outputs": [
    {
     "data": {
      "text/plain": [
       "1.7885814036548633"
      ]
     },
     "execution_count": 2,
     "metadata": {},
     "output_type": "execute_result"
    }
   ],
   "source": [
    "data=[178,177,176,177,178.2,178,175,179,180,175,178.9,176.2,177,172.5,178,176.5]\n",
    "import numpy as np\n",
    "np.std(data)"
   ]
  },
  {
   "cell_type": "markdown",
   "id": "73f1d914-7bc0-4159-b1e4-ecc615abbced",
   "metadata": {},
   "source": [
    "# Q5. How are measures of dispersion such as range, variance, and standard deviation used to describe the spread of a dataset? Provide an example."
   ]
  },
  {
   "cell_type": "code",
   "execution_count": 8,
   "id": "d53fb0bf-1eca-40c1-a321-92bbb432e20c",
   "metadata": {},
   "outputs": [],
   "source": [
    "import numpy as np\n",
    "# range is used to measure range of dataset\n",
    "ex = [10,30,50,60,80]\n",
    "range = np.max(ex)-np.min(ex)\n",
    "range\n",
    "# variance is used to measure to sperade of a dataset \n",
    "var=np.var(ex)\n",
    "#standard deviation is square root of variance\n",
    "std=np.std(ex)"
   ]
  },
  {
   "cell_type": "markdown",
   "id": "8a76f192-2bea-48e1-a0da-f4d99965e096",
   "metadata": {},
   "source": [
    "# Q6. What is a Venn diagram?"
   ]
  },
  {
   "cell_type": "code",
   "execution_count": null,
   "id": "dc07ee3d-6182-4c1c-aaeb-e81506aefd98",
   "metadata": {},
   "outputs": [],
   "source": [
    "Ans👉in simple word this diagram show the common elements  or relation between two different sets. "
   ]
  },
  {
   "cell_type": "markdown",
   "id": "552a9ea5-ca4e-4627-aa24-97229ddfd16c",
   "metadata": {},
   "source": [
    "# Q7. For the two given sets A = (2,3,4,5,6,7) & B = (0,2,6,8,10). Find:\n",
    "# (i) A ⩃ B\n",
    "# (ii) A ⋃ B"
   ]
  },
  {
   "cell_type": "markdown",
   "id": "b3216752-5795-45fc-be98-65ed39f5670a",
   "metadata": {},
   "source": [
    "(i) A ⩃ B 👉 (2,6)\n",
    "(ii) A ⋃ B 👉(0,2,3,4,5,6,7,8,10)"
   ]
  },
  {
   "cell_type": "markdown",
   "id": "c085000b-d4e4-4ed0-8ceb-05df54e8cd4a",
   "metadata": {},
   "source": [
    "# Q8. What do you understand about skewness in data?"
   ]
  },
  {
   "cell_type": "markdown",
   "id": "335cbfd1-9daf-4212-9c6c-02166912cf44",
   "metadata": {},
   "source": [
    "Ans👉skewness in data means its show the probality distrbution of data. like symmetrical skwness, positive skewness, negative skewness."
   ]
  },
  {
   "cell_type": "markdown",
   "id": "11e43426-94e0-4dbe-a529-64a5d2e0624c",
   "metadata": {},
   "source": [
    "# Q9. If a data is right skewed then what will be the position of median with respect to mean?"
   ]
  },
  {
   "cell_type": "markdown",
   "id": "c832af93-af3b-45e3-9546-935472d53b8a",
   "metadata": {},
   "source": [
    "Ans👉data is right skewend means median is less than mean"
   ]
  },
  {
   "cell_type": "markdown",
   "id": "a7a6997a-d886-47ff-9649-5e6fcc2c27d4",
   "metadata": {},
   "source": [
    "# Q10. Explain the difference between covariance and correlation. How are these measures used in statistical analysis?"
   ]
  },
  {
   "cell_type": "markdown",
   "id": "21f1973e-bc4e-4901-be9c-de3d032036be",
   "metadata": {},
   "source": [
    "Ans👉covariance is measure relationship how two variable  is differ from each other in the form of negative covariance and postive coviarance \n",
    "But correlation is also mesure relationship between two variable but in standard form in the range of -1 to 1 it means -1 indicate perfect \n",
    "negative relationship , 1 indicate perfect positve relatiship and 0 indicate no relationship."
   ]
  },
  {
   "cell_type": "code",
   "execution_count": null,
   "id": "a065b609-3d5e-4f3e-bdbe-ce33bda17a20",
   "metadata": {},
   "outputs": [],
   "source": []
  }
 ],
 "metadata": {
  "kernelspec": {
   "display_name": "Python 3 (ipykernel)",
   "language": "python",
   "name": "python3"
  },
  "language_info": {
   "codemirror_mode": {
    "name": "ipython",
    "version": 3
   },
   "file_extension": ".py",
   "mimetype": "text/x-python",
   "name": "python",
   "nbconvert_exporter": "python",
   "pygments_lexer": "ipython3",
   "version": "3.10.8"
  }
 },
 "nbformat": 4,
 "nbformat_minor": 5
}
